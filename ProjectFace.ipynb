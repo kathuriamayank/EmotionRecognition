{
 "cells": [
  {
   "cell_type": "code",
   "execution_count": 6,
   "metadata": {
    "collapsed": true
   },
   "outputs": [],
   "source": [
    "import commands\n",
    "import numpy as np\n",
    "import cv2\n",
    "import matplotlib.pyplot as plt\n",
    "%matplotlib inline\n",
    "\n",
    "face_cascade=cv2.CascadeClassifier(\"haarcascade_frontalface_default.xml\")\n",
    "\n",
    "#eye_cascade=cv2.CascadeClassifier(\"haarcascade_eye.xml\")\n",
    "\n",
    "img=cv2.imread(\"image.jpg\")\n",
    "\n",
    "#plt.imshow(img,cmap=\"gray\")\n",
    "#plt.show()\n",
    "cap=cv2.VideoCapture(0)"
   ]
  },
  {
   "cell_type": "code",
   "execution_count": 7,
   "metadata": {},
   "outputs": [
    {
     "name": "stdout",
     "output_type": "stream",
     "text": [
      "Happy\n",
      "Angry\n",
      "Surprise\n",
      "Angry\n"
     ]
    }
   ],
   "source": [
    "fisherface=cv2.createFisherFaceRecognizer()\n",
    "fisherface.load(\"trainedwithoutsad.xml\")\n",
    "while 1:\n",
    "    cv2.namedWindow(\"RawWindow\")\n",
    "    cv2.namedWindow(\"FaceSwappedWindow\")\n",
    "    ret,img=cap.read()\n",
    "    img_gray=cv2.cvtColor(img,cv2.COLOR_BGR2GRAY)\n",
    "    faces=face_cascade.detectMultiScale(img_gray)\n",
    "    for (x,y,w,h) in faces:\n",
    "        #img,initial points,width and height of rect,color of rect,thichkness\n",
    "        \n",
    "        cv2.imshow(\"RawWindow\",img_gray)\n",
    "        cv2.rectangle(img,(x,y),(x+w,y+h),(255,0,0),2)\n",
    "        roi_gray=img_gray[y:y+h,x:x+w]\n",
    "        roi_color=img[y:y+h,x:x+w]\n",
    "        roi_gray=cv2.resize(roi_gray,(268,268))\n",
    "\n",
    "        \n",
    "       \n",
    "        \n",
    "\n",
    "        '''img=cv2.imread(\"Emoji/happy.png\")\n",
    "        gray=np.array(cv2.cvtColor(img,cv2.COLOR_BGR2GRAY))\n",
    "        gray=cv2.resize(gray,(h,w))\n",
    "        img_gray[y:y+h,x:x+w]=gray\n",
    "        cv2.imshow(\"FaceSwappedWindow\",img_gray)'''\n",
    "    \n",
    "    #cv2.imshow(\"image\",img)\n",
    "    key=cv2.waitKey(30) & 0xff\n",
    "    if key==27:    #esc key\n",
    "        \n",
    "        break\n",
    "    if key==ord(\"s\"):\n",
    "        cv2.imwrite(\"face.jpg\",roi_gray)\n",
    "        face=cv2.imread(\"face.jpg\")\n",
    "        face_gray=cv2.cvtColor(face,cv2.COLOR_BGR2GRAY)\n",
    "        face_gray=cv2.resize(face_gray,(268,268))\n",
    "        pred,conf=fisherface.predict(face_gray)\n",
    "        if pred==0:\n",
    "            print \"Angry\"\n",
    "            emoji=cv2.imread(\"Emoji/anger.png\")\n",
    "            emoji_gray=np.array(cv2.cvtColor(emoji,cv2.COLOR_BGR2GRAY))\n",
    "            emoji_gray=cv2.resize(emoji_gray,(h,w))\n",
    "            img_gray[y:y+h,x:x+w]=emoji_gray\n",
    "            cv2.imshow(\"FaceSwappedWindow\",img_gray)\n",
    "            command = 'gsettings set org.gnome.desktop.background picture-uri \"file:///home/mayank/Desktop/Wallpaper/angry.jpg\"'\n",
    "            status, output = commands.getstatusoutput(command)\n",
    "        if pred==1:\n",
    "            print \"Happy\"\n",
    "            emoji=cv2.imread(\"Emoji/happy.png\")\n",
    "            emoji_gray=np.array(cv2.cvtColor(emoji,cv2.COLOR_BGR2GRAY))\n",
    "            emoji_gray=cv2.resize(emoji_gray,(h,w))\n",
    "            img_gray[y:y+h,x:x+w]=emoji_gray\n",
    "            cv2.imshow(\"FaceSwappedWindow\",img_gray)\n",
    "            command = 'gsettings set org.gnome.desktop.background picture-uri \"file:///home/mayank/Desktop/Wallpaper/happy.jpg\"'\n",
    "            status, output = commands.getstatusoutput(command)\n",
    "\n",
    "        if pred==3:\n",
    "            print \"Surprise\"\n",
    "            emoji=cv2.imread(\"Emoji/surprise.png\")\n",
    "            emoji_gray=np.array(cv2.cvtColor(emoji,cv2.COLOR_BGR2GRAY))\n",
    "            emoji_gray=cv2.resize(emoji_gray,(h,w))\n",
    "            img_gray[y:y+h,x:x+w]=emoji_gray\n",
    "            cv2.imshow(\"FaceSwappedWindow\",img_gray)\n",
    "            command = 'gsettings set org.gnome.desktop.background picture-uri \"file:///home/mayank/Desktop/Wallpaper/surprise.jpg\"'\n",
    "            status, output = commands.getstatusoutput(command)\n",
    "        \n",
    "        \n",
    "        \n",
    "        \n",
    "        \n",
    "\n",
    "cap.release()\n",
    "cv2.destroyAllWindows()\n",
    "    \n"
   ]
  },
  {
   "cell_type": "code",
   "execution_count": null,
   "metadata": {
    "collapsed": true
   },
   "outputs": [],
   "source": []
  }
 ],
 "metadata": {
  "kernelspec": {
   "display_name": "Python 2",
   "language": "python",
   "name": "python2"
  },
  "language_info": {
   "codemirror_mode": {
    "name": "ipython",
    "version": 2
   },
   "file_extension": ".py",
   "mimetype": "text/x-python",
   "name": "python",
   "nbconvert_exporter": "python",
   "pygments_lexer": "ipython2",
   "version": "2.7.9"
  }
 },
 "nbformat": 4,
 "nbformat_minor": 2
}
